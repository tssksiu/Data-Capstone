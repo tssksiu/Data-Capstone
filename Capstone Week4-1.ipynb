{
 "cells": [
  {
   "cell_type": "markdown",
   "metadata": {},
   "source": [
    "<h1>Capstone Project-The Battle of Neighborhoods (Week1)"
   ]
  },
  {
   "cell_type": "markdown",
   "metadata": {},
   "source": [
    "<h2>Introduction "
   ]
  },
  {
   "cell_type": "markdown",
   "metadata": {},
   "source": [
    "<h3>Should you open a restaurant/coffee shop in Hong Kong or Singapore?"
   ]
  },
  {
   "cell_type": "markdown",
   "metadata": {},
   "source": [
    "Hong Kong and Singapore, two of the major competitors in Asia economically, have always been vied for the top spot in various global economic ranking indicators. To name a few: "
   ]
  },
  {
   "cell_type": "markdown",
   "metadata": {},
   "source": [
    "1. <b>Fraser Institute’s annual Economic Freedom of the World report</b>, Hong Kong(1)and Singapore(2) are once again the most economically free jurisdictions in the world, occupying the top two spots.\n",
    "2. <b>IMD World Competitiveness Yearbook 2018</b>, The United States returns to the first spot, followed by Hong Kong(2), Singapore(3), the Netherlands and Switzerland.\n",
    "3. <b>World Economic Forum's Global Competitiveness Report 2018</b>, Singapore ranks 2nd while Hong Kong trails by 5 spots at 7th. "
   ]
  },
  {
   "cell_type": "markdown",
   "metadata": {},
   "source": [
    "So when it comes to a practical problem for a restaurant/coffee shop owner in any places of the world, when considering<b> where to open a new business in the city centre</b> of these two places renowned for the ease of starting an operation, which city should he/she choose? This report will explore the answer for this problem."
   ]
  }
 ],
 "metadata": {
  "kernelspec": {
   "display_name": "Python 3",
   "language": "python",
   "name": "python3"
  },
  "language_info": {
   "codemirror_mode": {
    "name": "ipython",
    "version": 3
   },
   "file_extension": ".py",
   "mimetype": "text/x-python",
   "name": "python",
   "nbconvert_exporter": "python",
   "pygments_lexer": "ipython3",
   "version": "3.6.8"
  }
 },
 "nbformat": 4,
 "nbformat_minor": 2
}
